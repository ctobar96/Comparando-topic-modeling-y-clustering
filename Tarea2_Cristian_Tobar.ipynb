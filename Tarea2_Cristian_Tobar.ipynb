{
 "cells": [
  {
   "cell_type": "markdown",
   "id": "9ff12b6c",
   "metadata": {},
   "source": [
    "<div>\n",
    "<img src=\"https://i.ibb.co/v3CvVz9/udd-short.png\" width=\"150\"/>\n",
    "    <br>\n",
    "    <strong>Universidad del Desarrollo</strong><br>\n",
    "    <em>Magíster en Data Science</em><br>\n",
    "    <em>Profesora: María Paz Raveau Morales</em><br>\n",
    "\n",
    "</div>\n",
    "\n",
    "# **<center>TAREA 2 COMPARANDO TOPIC MODELING Y CLUSTERING</center>**\n",
    "*03 de agosto de 2025*\n",
    "\n",
    "**Nombre Estudiante**: Cristian Tobar Morales  \n",
    "**Asignatura**: Procesamiento de Lenguaje Natural\n"
   ]
  },
  {
   "cell_type": "markdown",
   "id": "90ca2fd0",
   "metadata": {},
   "source": [
    "## **DESCRIPCIÓN DE LA PROBLEMÁTICA**\n",
    " "
   ]
  },
  {
   "cell_type": "markdown",
   "id": "ca6f7ec8",
   "metadata": {},
   "source": [
    "## **OBJETIVOS**"
   ]
  },
  {
   "cell_type": "markdown",
   "id": "8ca7ea1a",
   "metadata": {},
   "source": [
    "## **DESARROLLO**"
   ]
  },
  {
   "cell_type": "markdown",
   "id": "4e07532e",
   "metadata": {},
   "source": [
    "### **CARGA Y ANÁLISIS EXPLORATORIO DE LOS DATOS**"
   ]
  },
  {
   "cell_type": "markdown",
   "id": "350a911b",
   "metadata": {},
   "source": [
    "#### Librerías requeridas"
   ]
  },
  {
   "cell_type": "code",
   "execution_count": null,
   "id": "958dc9f8",
   "metadata": {},
   "outputs": [],
   "source": [
    "import os\n",
    "#%matplotlib inline\n",
    "import pandas as pd\n",
    "import numpy as np\n",
    "import math\n",
    "\n",
    "\n",
    "import string\n",
    "from nltk.stem import SnowballStemmer\n",
    "from wordcloud import WordCloud\n",
    "from nltk import bigrams\n",
    "\n",
    "remove_punct_map = dict.fromkeys(map(ord, string.punctuation))\n",
    "pd.set_option('display.max_rows',1000)\n",
    "pd.set_option('display.max_columns',1000)\n",
    "from itertools import compress\n",
    "\n",
    "import re\n",
    "\n",
    "# visualización \n",
    "import matplotlib.pyplot as plt\n",
    "import seaborn as sns"
   ]
  },
  {
   "cell_type": "code",
   "execution_count": null,
   "id": "b41c4677",
   "metadata": {},
   "outputs": [],
   "source": [
    "import stanzas\n",
    "tanza.download('es') # Ejecutar solamente una vez\n",
    "nlp = stanza.Pipeline(lang='es', processors='tokenize,mwt,pos,lemma,depparse')"
   ]
  },
  {
   "cell_type": "code",
   "execution_count": null,
   "id": "72d54133",
   "metadata": {},
   "outputs": [],
   "source": [
    "import nltk\n",
    "nltk.download('punkt') # Ejecutar solamente una vez"
   ]
  },
  {
   "cell_type": "code",
   "execution_count": null,
   "id": "900476d4",
   "metadata": {},
   "outputs": [],
   "source": [
    "from nltk import word_tokenize\n",
    "from nltk.corpus import stopwords\n",
    "esp_stop = stopwords.words('spanish')\n",
    "esp_stop = esp_stop + ['ser','tener','deber','haber','hacer','poder','ir']\n",
    "esp_stop.remove('estado')\n",
    "esp_stop.remove('estados')"
   ]
  },
  {
   "cell_type": "code",
   "execution_count": null,
   "id": "a4c98247",
   "metadata": {},
   "outputs": [],
   "source": [
    "import gensim\n",
    "from gensim import corpora\n",
    "from gensim import models"
   ]
  },
  {
   "cell_type": "markdown",
   "id": "04b6f6b4",
   "metadata": {},
   "source": [
    "#### Cargar e Información inicial del dataset"
   ]
  },
  {
   "cell_type": "code",
   "execution_count": null,
   "id": "39954a92",
   "metadata": {},
   "outputs": [],
   "source": [
    "# Cargar los datos\n",
    "url = 'ecqq.csv'"
   ]
  },
  {
   "cell_type": "markdown",
   "id": "bc0af78d",
   "metadata": {},
   "source": [
    "### **PRE-PROCESAMIENTO**"
   ]
  },
  {
   "cell_type": "markdown",
   "id": "a1e0d528",
   "metadata": {},
   "source": [
    "#### Tokenizar"
   ]
  },
  {
   "cell_type": "markdown",
   "id": "de0447bd",
   "metadata": {},
   "source": [
    "#### Lemmatizar"
   ]
  },
  {
   "cell_type": "markdown",
   "id": "8a148e3f",
   "metadata": {},
   "source": [
    "#### Transformar el texto en minúsculas, eliminar puntuaciones, números, espacios en blanco y salto de líneas"
   ]
  },
  {
   "cell_type": "markdown",
   "id": "46aaeb53",
   "metadata": {},
   "source": [
    "#### Stopwords"
   ]
  }
 ],
 "metadata": {
  "kernelspec": {
   "display_name": "Procesamiento de lenguaje natural",
   "language": "python",
   "name": "python3"
  },
  "language_info": {
   "name": "python",
   "version": "3.11.5"
  }
 },
 "nbformat": 4,
 "nbformat_minor": 5
}
