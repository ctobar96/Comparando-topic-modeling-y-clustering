{
 "cells": [
  {
   "cell_type": "markdown",
   "id": "9ff12b6c",
   "metadata": {},
   "source": [
    "<div>\n",
    "<img src=\"https://i.ibb.co/v3CvVz9/udd-short.png\" width=\"150\"/>\n",
    "    <br>\n",
    "    <strong>Universidad del Desarrollo</strong><br>\n",
    "    <em>Magíster en Data Science</em><br>\n",
    "    <em>Profesora: María Paz Raveau Morales</em><br>\n",
    "\n",
    "</div>\n",
    "\n",
    "# **<center>TAREA 2 COMPARANDO TOPIC MODELING Y CLUSTERING</center>**\n",
    "*03 de agosto de 2025*\n",
    "\n",
    "**Nombre Estudiante**: Cristian Tobar Morales  \n",
    "**Asignatura**: Procesamiento de Lenguaje Natural\n"
   ]
  },
  {
   "cell_type": "markdown",
   "id": "90ca2fd0",
   "metadata": {},
   "source": [
    "## **DESCRIPCIÓN DE LA PROBLEMÁTICA**\n",
    " "
   ]
  },
  {
   "cell_type": "markdown",
   "id": "ca6f7ec8",
   "metadata": {},
   "source": [
    "## **OBJETIVOS**"
   ]
  },
  {
   "cell_type": "markdown",
   "id": "8ca7ea1a",
   "metadata": {},
   "source": [
    "## **DESARROLLO**"
   ]
  },
  {
   "cell_type": "markdown",
   "id": "4e07532e",
   "metadata": {},
   "source": [
    "### **CARGA Y ANÁLISIS EXPLORATORIO DE LOS DATOS**"
   ]
  }
 ],
 "metadata": {
  "kernelspec": {
   "display_name": "Procesamiento de lenguaje natural",
   "language": "python",
   "name": "python3"
  },
  "language_info": {
   "name": "python",
   "version": "3.11.5"
  }
 },
 "nbformat": 4,
 "nbformat_minor": 5
}
