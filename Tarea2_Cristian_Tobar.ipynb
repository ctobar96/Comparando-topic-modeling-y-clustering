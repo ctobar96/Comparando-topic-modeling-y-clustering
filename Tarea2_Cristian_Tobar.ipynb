{
 "cells": [
  {
   "cell_type": "markdown",
   "id": "9ff12b6c",
   "metadata": {},
   "source": [
    "<div>\n",
    "<img src=\"https://i.ibb.co/v3CvVz9/udd-short.png\" width=\"150\"/>\n",
    "    <br>\n",
    "    <strong>Universidad del Desarrollo</strong><br>\n",
    "    <em>Magíster en Data Science</em><br>\n",
    "    <em>Profesora: María Paz Raveau Morales</em><br>\n",
    "\n",
    "</div>\n",
    "\n",
    "# **<center>TAREA 2 COMPARANDO TOPIC MODELING Y CLUSTERING</center>**\n",
    "*03 de agosto de 2025*\n",
    "\n",
    "**Nombre Estudiante**: Cristian Tobar Morales  \n",
    "**Asignatura**: Procesamiento de Lenguaje Natural\n"
   ]
  },
  {
   "cell_type": "markdown",
   "id": "90ca2fd0",
   "metadata": {},
   "source": [
    "## **DESCRIPCIÓN DE LA PROBLEMÁTICA**\n",
    " "
   ]
  },
  {
   "cell_type": "markdown",
   "id": "ca6f7ec8",
   "metadata": {},
   "source": [
    "## **OBJETIVOS**"
   ]
  },
  {
   "cell_type": "markdown",
   "id": "8ca7ea1a",
   "metadata": {},
   "source": [
    "## **DESARROLLO**"
   ]
  },
  {
   "cell_type": "markdown",
   "id": "4e07532e",
   "metadata": {},
   "source": [
    "### **CARGA Y ANÁLISIS EXPLORATORIO DE LOS DATOS**"
   ]
  },
  {
   "cell_type": "markdown",
   "id": "350a911b",
   "metadata": {},
   "source": [
    "#### Librerías requeridas"
   ]
  },
  {
   "cell_type": "code",
   "execution_count": 1,
   "id": "958dc9f8",
   "metadata": {},
   "outputs": [],
   "source": [
    "import os\n",
    "%matplotlib inline\n",
    "import pandas as pd\n",
    "import numpy as np\n",
    "import math\n",
    "\n",
    "\n",
    "import string\n",
    "from nltk.stem import SnowballStemmer\n",
    "from wordcloud import WordCloud\n",
    "from nltk import bigrams\n",
    "\n",
    "remove_punct_map = dict.fromkeys(map(ord, string.punctuation))\n",
    "pd.set_option('display.max_rows',1000)\n",
    "pd.set_option('display.max_columns',1000)\n",
    "from itertools import compress\n",
    "\n",
    "import re\n",
    "\n",
    "# visualización \n",
    "import matplotlib.pyplot as plt\n",
    "import seaborn as sns"
   ]
  },
  {
   "cell_type": "code",
   "execution_count": 2,
   "id": "b41c4677",
   "metadata": {},
   "outputs": [
    {
     "data": {
      "application/vnd.jupyter.widget-view+json": {
       "model_id": "21691f6ffa6d425dbfa888f48a0867e7",
       "version_major": 2,
       "version_minor": 0
      },
      "text/plain": [
       "Downloading https://raw.githubusercontent.com/stanfordnlp/stanza-resources/main/resources_1.10.0.json:   0%|  …"
      ]
     },
     "metadata": {},
     "output_type": "display_data"
    },
    {
     "name": "stderr",
     "output_type": "stream",
     "text": [
      "2025-08-02 17:28:33 INFO: Downloaded file to C:\\Users\\crist\\stanza_resources\\resources.json\n",
      "2025-08-02 17:28:33 INFO: Downloading default packages for language: es (Spanish) ...\n",
      "2025-08-02 17:28:35 INFO: File exists: C:\\Users\\crist\\stanza_resources\\es\\default.zip\n",
      "2025-08-02 17:28:40 INFO: Finished downloading models and saved to C:\\Users\\crist\\stanza_resources\n",
      "2025-08-02 17:28:40 INFO: Checking for updates to resources.json in case models have been updated.  Note: this behavior can be turned off with download_method=None or download_method=DownloadMethod.REUSE_RESOURCES\n"
     ]
    },
    {
     "data": {
      "application/vnd.jupyter.widget-view+json": {
       "model_id": "f82463b9c02c4a639805a14ee56c83bd",
       "version_major": 2,
       "version_minor": 0
      },
      "text/plain": [
       "Downloading https://raw.githubusercontent.com/stanfordnlp/stanza-resources/main/resources_1.10.0.json:   0%|  …"
      ]
     },
     "metadata": {},
     "output_type": "display_data"
    },
    {
     "name": "stderr",
     "output_type": "stream",
     "text": [
      "2025-08-02 17:28:40 INFO: Downloaded file to C:\\Users\\crist\\stanza_resources\\resources.json\n",
      "2025-08-02 17:28:41 INFO: Loading these models for language: es (Spanish):\n",
      "=================================\n",
      "| Processor | Package           |\n",
      "---------------------------------\n",
      "| tokenize  | combined          |\n",
      "| mwt       | combined          |\n",
      "| pos       | combined_charlm   |\n",
      "| lemma     | combined_nocharlm |\n",
      "| depparse  | combined_charlm   |\n",
      "=================================\n",
      "\n",
      "2025-08-02 17:28:41 INFO: Using device: cpu\n",
      "2025-08-02 17:28:41 INFO: Loading: tokenize\n",
      "2025-08-02 17:29:35 INFO: Loading: mwt\n",
      "2025-08-02 17:29:36 INFO: Loading: pos\n",
      "2025-08-02 17:29:39 INFO: Loading: lemma\n",
      "2025-08-02 17:29:41 INFO: Loading: depparse\n",
      "2025-08-02 17:29:41 INFO: Done loading processors!\n"
     ]
    }
   ],
   "source": [
    "import stanza\n",
    "stanza.download('es') # Ejecutar solamente una vez\n",
    "nlp = stanza.Pipeline(lang='es', processors='tokenize,mwt,pos,lemma,depparse')"
   ]
  },
  {
   "cell_type": "code",
   "execution_count": 3,
   "id": "72d54133",
   "metadata": {},
   "outputs": [
    {
     "name": "stderr",
     "output_type": "stream",
     "text": [
      "[nltk_data] Downloading package punkt to\n",
      "[nltk_data]     C:\\Users\\crist\\AppData\\Roaming\\nltk_data...\n",
      "[nltk_data]   Package punkt is already up-to-date!\n"
     ]
    },
    {
     "data": {
      "text/plain": [
       "True"
      ]
     },
     "execution_count": 3,
     "metadata": {},
     "output_type": "execute_result"
    }
   ],
   "source": [
    "import nltk\n",
    "nltk.download('punkt') # Ejecutar solamente una vez"
   ]
  },
  {
   "cell_type": "code",
   "execution_count": 4,
   "id": "900476d4",
   "metadata": {},
   "outputs": [],
   "source": [
    "from nltk import word_tokenize\n",
    "from nltk.corpus import stopwords\n",
    "esp_stop = stopwords.words('spanish')\n",
    "esp_stop = esp_stop + ['ser','tener','deber','haber','hacer','poder','ir']\n",
    "esp_stop.remove('estado')\n",
    "esp_stop.remove('estados')"
   ]
  },
  {
   "cell_type": "code",
   "execution_count": 5,
   "id": "a4c98247",
   "metadata": {},
   "outputs": [],
   "source": [
    "import gensim\n",
    "from gensim import corpora\n",
    "from gensim import models"
   ]
  },
  {
   "cell_type": "markdown",
   "id": "04b6f6b4",
   "metadata": {},
   "source": [
    "#### Cargar e Información inicial del dataset"
   ]
  },
  {
   "cell_type": "code",
   "execution_count": 45,
   "id": "64bb4cb1",
   "metadata": {},
   "outputs": [],
   "source": [
    "# Leer cada línea como una entrada de texto\n",
    "with open('ecqq.csv', encoding='utf-8') as f:\n",
    "    lines = f.readlines() # lee el archivo completo como una lista de líneas\n",
    "\n",
    "# Limpiar saltos de línea y espacios\n",
    "lines = [line.strip() for line in lines if line.strip()]\n",
    "\n",
    "# Crear DataFrame con una sola columna\n",
    "df = pd.DataFrame(lines, columns=['texto'])"
   ]
  },
  {
   "cell_type": "code",
   "execution_count": 29,
   "id": "d6f78773",
   "metadata": {},
   "outputs": [
    {
     "name": "stdout",
     "output_type": "stream",
     "text": [
      "<class 'pandas.core.frame.DataFrame'>\n",
      "RangeIndex: 10204 entries, 0 to 10203\n",
      "Data columns (total 1 columns):\n",
      " #   Column  Non-Null Count  Dtype \n",
      "---  ------  --------------  ----- \n",
      " 0   texto   10204 non-null  object\n",
      "dtypes: object(1)\n",
      "memory usage: 79.8+ KB\n"
     ]
    }
   ],
   "source": [
    "df.info()"
   ]
  },
  {
   "cell_type": "code",
   "execution_count": 34,
   "id": "5eb7c0c7",
   "metadata": {},
   "outputs": [
    {
     "data": {
      "text/plain": [
       "['0\\tse necesitan pensiones dignas a los adultos mayores, ya que no alcanza el costo de vida tan alto en que que vivimos',\n",
       " '1\\tel acceso a la salud sea de calidad, con diagnosticos que generen confianza no debiendo ir a santiago para conseguir confianza. altos costos de los servicios.',\n",
       " '2\\t\"conprender que el trabajo es una \"\"actividad\"\" y no un \"\"lugar físico\"\", a partir de ello, la incorporación de la flexibilidad laboral permite generar mayor motivación.',\n",
       " 'junto con ello, asimilar a trabajadores honorarios como aquellos que cuentan con cto indefinido y no como trabajadores de 2° categori\"',\n",
       " '3\\t\"- más especialistas en los consultorios, son escasos lo que lleva a horas de espera interminables']"
      ]
     },
     "execution_count": 34,
     "metadata": {},
     "output_type": "execute_result"
    }
   ],
   "source": [
    "# Exploración inicial\n",
    "df['texto'].head().to_list()"
   ]
  },
  {
   "cell_type": "code",
   "execution_count": null,
   "id": "5eb6ae42",
   "metadata": {},
   "outputs": [],
   "source": [
    "# Quitar la fila 0\n",
    "df = df[df['texto'] != 'P2_1_B']"
   ]
  },
  {
   "cell_type": "markdown",
   "id": "6b7050b4",
   "metadata": {},
   "source": [
    "Se seleccionan distintas filas del corpus con el objetivo de revisar la data cruda y comprender el tipo de información compartida, como paso previo al procesamiento."
   ]
  },
  {
   "cell_type": "code",
   "execution_count": 47,
   "id": "a970ae7d",
   "metadata": {},
   "outputs": [
    {
     "name": "stdout",
     "output_type": "stream",
     "text": [
      "\u001b[1m TEXTO 0:\u001b[0m\n",
      "3792\tpensiones dignas, que nos permitan vivir dignidad, pensiones actuales no nos permiten llegar el mundo de la culturas, cine, libros , porque se nos esta vetando\n",
      "\u001b[1m TEXTO 1:\u001b[0m\n",
      "4074\t\"- urgencia, no es urgencia\n",
      "\u001b[1m TEXTO 2:\u001b[0m\n",
      "demora en examen (servicios)\n",
      "\u001b[1m TEXTO 3:\u001b[0m\n",
      "2978\t\"mala reforma de pensiones no esta de acuerdo con el aumento\n",
      "\u001b[1m TEXTO 4:\u001b[0m\n",
      "956\t\"-salud pública no permite que las personas puedan atenderse oportunamente y salud digna.\n",
      "\u001b[1m TEXTO 5:\u001b[0m\n",
      "1314\t\"educación digna y de calidad que sea transversal\n",
      "\u001b[1m TEXTO 6:\u001b[0m\n",
      "1110\t\"que se potencia a carabineros y se renueve completamente.\n",
      "\u001b[1m TEXTO 7:\u001b[0m\n",
      "- Mecanismo de rentabilidad estable\n"
     ]
    }
   ],
   "source": [
    "import random\n",
    "\n",
    "for i in range(8):\n",
    "    print(f\"\\033[1m TEXTO {i}:\\033[0m\")\n",
    "    print(df.loc[random.randint(0, len(df))]['texto'], end=\"\\n\")"
   ]
  },
  {
   "cell_type": "markdown",
   "id": "1d85229e",
   "metadata": {},
   "source": [
    "En las filas seleccionadas de forma aleatoria se observa que los ciudadanos realizan solicitudes al Estado sobre su calidad de vida, ya sea para llevar una existencia tranquila y digna o para acceder a una pensión adecuada."
   ]
  },
  {
   "cell_type": "markdown",
   "id": "39954a92",
   "metadata": {},
   "source": [
    "### **PRE-PROCESAMIENTO**"
   ]
  },
  {
   "cell_type": "code",
   "execution_count": 50,
   "id": "5aa516bc",
   "metadata": {},
   "outputs": [],
   "source": [
    "# Crear una nueva columna\n",
    "columna = \"texto_modificado\"\n",
    "df[columna] = df['texto']"
   ]
  },
  {
   "cell_type": "code",
   "execution_count": 51,
   "id": "c26e7d57",
   "metadata": {},
   "outputs": [
    {
     "data": {
      "text/plain": [
       "texto_modificado\n",
       "\"                                               109\n",
       "falta de especialistas                            8\n",
       "-falta de especialistas                           6\n",
       "especialistas                                     5\n",
       "- falta de especialistas                          5\n",
       "falta de especialistas.                           5\n",
       "- mas especialistas                               4\n",
       "- falta de insumos                                3\n",
       "lista de espera                                   3\n",
       "listas de espera                                  3\n",
       "-falta de medicamentos                            3\n",
       "- falta de especialista                           3\n",
       "-\"                                                3\n",
       "- lista de espera                                 3\n",
       "- calidad                                         3\n",
       "menos horas de espera                             2\n",
       "mejor atención                                    2\n",
       "- educación gratuita y de calidad para todos      2\n",
       "mala atención.                                    2\n",
       "las listas de espera                              2\n",
       "Name: count, dtype: int64"
      ]
     },
     "execution_count": 51,
     "metadata": {},
     "output_type": "execute_result"
    }
   ],
   "source": [
    "# Saber que entradas no aportan información\n",
    "df[columna].value_counts().head(20)"
   ]
  },
  {
   "cell_type": "markdown",
   "id": "a1e0d528",
   "metadata": {},
   "source": [
    "#### Tokenizar"
   ]
  },
  {
   "cell_type": "markdown",
   "id": "de0447bd",
   "metadata": {},
   "source": [
    "#### Lemmatizar"
   ]
  },
  {
   "cell_type": "markdown",
   "id": "8a148e3f",
   "metadata": {},
   "source": [
    "#### Transformar el texto en minúsculas, eliminar puntuaciones, números, espacios en blanco y salto de líneas"
   ]
  },
  {
   "cell_type": "markdown",
   "id": "46aaeb53",
   "metadata": {},
   "source": [
    "#### Stopwords"
   ]
  }
 ],
 "metadata": {
  "kernelspec": {
   "display_name": "Procesamiento de lenguaje natural",
   "language": "python",
   "name": "python3"
  },
  "language_info": {
   "codemirror_mode": {
    "name": "ipython",
    "version": 3
   },
   "file_extension": ".py",
   "mimetype": "text/x-python",
   "name": "python",
   "nbconvert_exporter": "python",
   "pygments_lexer": "ipython3",
   "version": "3.11.5"
  }
 },
 "nbformat": 4,
 "nbformat_minor": 5
}
